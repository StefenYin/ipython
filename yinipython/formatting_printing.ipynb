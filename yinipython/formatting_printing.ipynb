{
 "metadata": {
  "name": "formatting_printing"
 },
 "nbformat": 3,
 "nbformat_minor": 0,
 "worksheets": [
  {
   "cells": [
    {
     "cell_type": "markdown",
     "metadata": {},
     "source": [
      "Formatting and printing:\n",
      "========================\n",
      "\n",
      "- Good for exporting in html form or others:\n",
      "[IPython/npconverter](https://github.com/ipython/nbconvert)\n",
      "and, for example, [blogger-html](http://blog.fperez.org/2012/09/blogging-with-ipython-notebook.html)\n",
      "\n",
      "- Check the view of html in [nbviwer](http://nbviewer.ipython.org/), by typing into the \"link to this gist\" in [Github/Gists](https://gist.github.com/StefenYin/42a5714f80e31e05e6cb)\n",
      "    \n",
      "- The content can be found in [Github IPython notebook](https://github.com/ipython/ipython/tree/master/examples)\n",
      "\n",
      "NOTE:\n",
      "-----\n",
      "The npconvert needs to follow the installation instruction in the Github since it is not merged into the [IPython](https://github.com/ipython) yet.\n",
      "After all the dependencies are installed, putting the file.ipynb into the npconvert directory and type:\n",
      "    \n",
      "    $./nbconvert.py --format html <filename.ipynb>\n",
      "The extension can be *html, rst, latex, pdf, blogger-html, markdown, py, reveal*.\n",
      "\n",
      "You can then add the source directory as well as js and css into your $PATH, and then you can just type:\n",
      "    \n",
      "    $nbconvert -f blogger-html <filename.ipynb>\n"
     ]
    },
    {
     "cell_type": "markdown",
     "metadata": {},
     "source": [
      "Load the pylab and print inline if type \"inline\" after:\n",
      "-------------------------------------------------------"
     ]
    },
    {
     "cell_type": "code",
     "collapsed": false,
     "input": [
      "%pylab inline"
     ],
     "language": "python",
     "metadata": {},
     "outputs": [
      {
       "output_type": "stream",
       "stream": "stdout",
       "text": [
        "\n",
        "Welcome to pylab, a matplotlib-based Python environment [backend: module://IPython.kernel.zmq.pylab.backend_inline].\n",
        "For more information, type 'help(pylab)'.\n"
       ]
      }
     ],
     "prompt_number": 1
    },
    {
     "cell_type": "markdown",
     "metadata": {},
     "source": [
      "Displace the expressions in mathmetical formats:\n",
      "------------------------------------------------\n",
      "\n",
      "[Examples](http://nbviewer.ipython.org/urls/raw.github.com/fperez/blog/master/120907-Blogging%20with%20the%20IPython%20Notebook.ipynb)\n",
      "\n",
      "Here is a simple expression:"
     ]
    },
    {
     "cell_type": "code",
     "collapsed": false,
     "input": [
      "%load_ext sympyprinting\n",
      "import sympy as sym\n",
      "from sympy import *\n",
      "x, y, z = sym.symbols(\"x y z\")"
     ],
     "language": "python",
     "metadata": {},
     "outputs": [
      {
       "output_type": "stream",
       "stream": "stdout",
       "text": [
        "The sympyprinting extension is already loaded. To reload it, use:\n",
        "  %reload_ext sympyprinting\n"
       ]
      }
     ],
     "prompt_number": 6
    },
    {
     "cell_type": "code",
     "collapsed": false,
     "input": [
      "Rational(3,2)*pi + exp(I*x) / (x**2 + y)"
     ],
     "language": "python",
     "metadata": {},
     "outputs": [
      {
       "latex": [
        "$$\\frac{3}{2} \\pi + \\frac{e^{\\mathbf{\\imath} x}}{x^{2} + y}$$"
       ],
       "output_type": "pyout",
       "png": "[encoded data removed]",
       "prompt_number": 5,
       "text": [
        "\n",
        "        \u2148\u22c5x \n",
        "3\u22c5\u03c0    \u212f    \n",
        "\u2500\u2500\u2500 + \u2500\u2500\u2500\u2500\u2500\u2500\n",
        " 2     2    \n",
        "      x  + y"
       ]
      }
     ],
     "prompt_number": 5
    },
    {
     "cell_type": "markdown",
     "metadata": {},
     "source": [
      "Simple formatting:\n",
      "------------------\n",
      "\n",
      "- *italicize*\n",
      "\n",
      "- **bold**\n",
      "\n",
      "You can embed code meant for illustration instead of execution in Python:\n",
      "    \n",
      "    def f(x):\n",
      "        \"\"\"a docstring\"\"\"\n",
      "        return x**2\n",
      "  \n",
      "Note: do not put it into a list."
     ]
    },
    {
     "cell_type": "markdown",
     "metadata": {},
     "source": [
      "Plotting:\n",
      "=========\n",
      "Including image files with extension of .svg, .jpg and so on:\n",
      "    \n",
      "    from IPython.display import Image\n",
      "    Image(filename='<file name>.jpg')\n",
      "    \n",
      "    from IPython.display import SVG\n",
      "    SVG(filename='<file name>.svg')\n",
      "    \n",
      "    from IPython.display import YouTubeVideo\n",
      "    YouTubeVideo('iwVvqwLDsJo')   # Here iwVvqwLDsJo is presented instead of http://youtu.be/iwVvqwLDsJo "
     ]
    }
   ],
   "metadata": {}
  }
 ]
}